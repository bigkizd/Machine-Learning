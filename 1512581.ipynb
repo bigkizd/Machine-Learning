{
 "cells": [
  {
   "cell_type": "markdown",
   "metadata": {},
   "source": [
    "# Bài tập 3\n",
    "\n",
    "\n",
    "Đào Minh toàn - 1512581\n",
    "\n",
    "---"
   ]
  },
  {
   "cell_type": "markdown",
   "metadata": {},
   "source": [
    "## Generalization Error\n",
    "###### Câu 1: \n",
    "Chọn B\n",
    "###### Câu 2: \n",
    "Chọn C\n",
    "###### Câu 3: \n",
    "Chọn D\n",
    "###### Giải thích\n",
    "Giải thích:\n",
    "\n",
    "⇒ 0.03 ≥ 2Me-2×(0.05)^2 N\n",
    "\n",
    "⇒ 0.03 ≥ 2Me-0.005N\n",
    "\n",
    "⇒ 0.03 ÷ 2M ≥ e-0.005N\n",
    "\n",
    "⇒ log(0.03 ÷ 2M) ≥ -0.005N\n",
    "\n",
    "⇒ log(0.03) - log(2M) ≥ -0.005N\n",
    "\n",
    "⇒ (log(0.03) - log(2M)) ÷ -0.005 ≥ N\n",
    "\n",
    "M = 1 : 839.9410155759854\n",
    "\n",
    "M = 10 : 1300.450341747946\n",
    "\n",
    "M = 100 : 1760.9750527736037"
   ]
  },
  {
   "cell_type": "markdown",
   "metadata": {},
   "source": [
    "# Break Point\n",
    "###### Câu 4: \n",
    "Chọn B\n",
    "###### Giải thích\n",
    "Đối với trường hợp không thể trong R ^ 2 nơi điểm là một hình vuông với góc đối diễn cùng nhãn, hãy tưởng tượng một tập các góc đang ở một giá trị z khác nhau và sau đó bạn sẽ chia các cặp góc với không gian. Tương đương với hình vuông trong R^2 là một hình tháp trong R ^ 3 nơi góc đối diện cũng như đỉnh là + 1 và phần còn lại là -1. Tình huống không được hổ trở nếu chúng ta giảm một tập các góc theo tọa độ z. Như vậy, break point là k = 5"
   ]
  },
  {
   "cell_type": "markdown",
   "metadata": {},
   "source": [
    "# Growth Function\n",
    "###### Câu 5: \n",
    "Chọn B\n",
    "###### Giải thích\n",
    " 1. 1+N\n",
    " 2. 1+N+NC2\n",
    " 3. ∑(i=1;⌊ √ N ⌋) NCi\n",
    " 4. 2⌊ N/2 ⌋\n",
    " 5. 2^N\n",
    " Mối growth function m_H(N) cần giới hạn trên bởi ∑(i=0.k-1) NCi Nếu đó là break point.\n",
    "  - 1 là growth function cho positive ray\n",
    "  - 2 là certainly possible từ NC2 + N +1 nơi N + 1 là NC1\n",
    "       và NC0 chỉ giới hạn khi k = 3, ràng buộc bơi positive     intervals.\n",
    "  - 3 là không thể kể từ khi giới hạn trên của tổng số phụ thuộc vào N, làm kết quả không phải đa thức.\n",
    "  - 4 không từ khi growth functions không break points là một trong hai 2^N or đa thức và 4 cũng không.\n",
    "  - 5 là growth function cho convex set.\n"
   ]
  },
  {
   "cell_type": "markdown",
   "metadata": {},
   "source": [
    "## Fun With Intervals\n",
    "###### Câu 6: \n",
    "Chọn C\n",
    "###### Giải thích\n",
    "x o x o x là không thể đạt được nơi x là +1 và o là -1. Thấp hơn là shatterable, đặc biết là xem xét bạn có thể ẩn một khoảng giữa hai điểm dữ liệu.\n",
    "###### Câu 7: \n",
    "Chọn C\n",
    "###### Giải thích\n",
    "Growth function tương tự với growth function trong 1 khoảng, nơi bạn chọn khoảng N + 1 điểm trong điểm dữ liệu cho 2 điểm kết thúc, vì thế (N+1)C2. Do nó thiếu điểm kết thúc nơi cả hai điểm kết thúc là như nhau.Lựa chọn vẫn hợp lệ cho trường hợp 2 intervals. Sau đó, chúng ta cần thêm trường hợp đang chọn 4 điểm kết thúc từ N + 1 điểm, chúng ta cần thêm (N+1)C4. Vì vậy growth function là : (N+1)C4 + (N+1)C2 +1.\n",
    "###### Câu 8: \n",
    "Chọn D\n",
    "###### Giải thích\n",
    "Mô hình học 2-interval không thể phá vở khi M = 5, x o x o x nơi x là +1 o là -1. chúng ta thực sự cần 3 intervals. the break point xảy ra khi thay thế x's và o's với x's tại điểm kết thúc. Đối với x là o và một x phụ mà chúng ta không thể thiết lập, do đó có M x's, M o's và 1 x phụ, smallest break point là 2M +1."
   ]
  },
  {
   "cell_type": "markdown",
   "metadata": {},
   "source": [
    "## Convex Sets: The T\n",
    "###### Câu 9: \n",
    "Chọn D\n",
    "###### Giải thích\n",
    "Điều này chủ yếu là do vấn đề 3 khoảng, trong đó mỗi khoảng có thể được che phủ bởi một trong các góc của tam giác, ngoại trừ dòng số thực ℜ ^ 1 làm miền của giả thuyết được quấn quanh một vòng tròn để sau ngày thứ 7 điểm 1 điểm sau. Điểm dữ liệu vấn đề không bị chệch hướng trong trường hợp 3 khoảng là x o x o x o x vì chúng ta thực sự cần 4 khoảng để bao phủ nó. Tập dữ liệu này không phải là một vấn đề trong trường hợp này vì điểm thứ 7 và 1 nằm liền kề và do đó có thể được bao phủ bởi cùng một khoảng / góc tam giác. M = 8 chứng minh là một vấn đề mặc dù với x o x o x o x o, vì chúng ta thực sự cần 4 khoảng hoặc 4 góc để che xs trong trường hợp này và do đó không phải là shatterable. Như vậy, số điểm lớn nhất trong ℜ ^ 2 đó là vỡ là 7."
   ]
  },
  {
   "cell_type": "markdown",
   "metadata": {},
   "source": [
    "## Non-Convex Sets: Concentric\n",
    "###### Câu 10: \n",
    "Chọn B\n",
    "###### Giải thích \n",
    "Giải thích:\n",
    "Điều này về cơ bản giống như vấn đề 1-interval nhưng ở 2 chiều với vòng tròn nhỏ hơn là điểm kết thúc đầu tiên và vòng tròn thứ hai là điểm kết thúc thứ hai. Lưu ý rằng với trường hợp vòng tròn này, bạn chỉ thực sự cần phải xem xét bán kính tương đối từ trung tâm vòng tròn cho giả thuyết. Thực hiện điều này, rõ ràng rằng điều này trên thực tế thực sự giảm xuống đến vấn đề khoảng cách 1 trong ℜ ^ 1 với dòng số 1-D theo dõi bán kính. Như vậy chức năng tăng trưởng giống như trong trường hợp 1 khoảng: (N + 1) C2 +1."
   ]
  },
  {
   "cell_type": "code",
   "execution_count": null,
   "metadata": {},
   "outputs": [],
   "source": []
  }
 ],
 "metadata": {
  "kernelspec": {
   "display_name": "Python 3",
   "language": "python",
   "name": "python3"
  },
  "language_info": {
   "codemirror_mode": {
    "name": "ipython",
    "version": 3
   },
   "file_extension": ".py",
   "mimetype": "text/x-python",
   "name": "python",
   "nbconvert_exporter": "python",
   "pygments_lexer": "ipython3",
   "version": "3.6.4"
  }
 },
 "nbformat": 4,
 "nbformat_minor": 2
}
